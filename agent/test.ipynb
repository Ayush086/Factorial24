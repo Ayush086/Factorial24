{
 "cells": [
  {
   "cell_type": "markdown",
   "id": "8444ade7",
   "metadata": {},
   "source": [
    "#### Helper Functions Testing"
   ]
  },
  {
   "cell_type": "code",
   "execution_count": null,
   "id": "e9f2159b",
   "metadata": {},
   "outputs": [],
   "source": [
    "import fitz\n",
    "import os\n",
    "\n",
    "# extracting data from pdfs\n",
    "def extract_text_from_pdfs(pdf_dir):\n",
    "    extracted_data = {}\n",
    "    for file in os.listdir(pdf_dir):\n",
    "        if file.endswith('.pdf'):\n",
    "            path = os.path.join(pdf_dir, file)\n",
    "            with fitz.open(path) as doc:\n",
    "                text = \"\\n\".join([page.get_text() for page in doc])\n",
    "            extracted_data[file] = text\n",
    "    return extracted_data\n"
   ]
  },
  {
   "cell_type": "code",
   "execution_count": null,
   "id": "8674843e",
   "metadata": {},
   "outputs": [],
   "source": [
    "\n",
    "import re\n",
    "import spacy\n",
    "\n",
    "nlp = spacy.load(\"en_core_web_sm\")\n",
    "\n",
    "# text preprocessing\n",
    "def preprocess_text(text):\n",
    "    text = text.lower()\n",
    "    text = re.sub(r'[^\\w\\s]', '', text)\n",
    "    doc = nlp(text)\n",
    "    tokens = [token.lemma_ for token in doc if not token.is_stop and not token.is_punct]\n",
    "    return \" \".join(tokens)\n"
   ]
  },
  {
   "cell_type": "code",
   "execution_count": null,
   "id": "9edd3c24",
   "metadata": {},
   "outputs": [
    {
     "name": "stderr",
     "output_type": "stream",
     "text": [
      "e:\\assignment\\myenv\\Lib\\site-packages\\tqdm\\auto.py:21: TqdmWarning: IProgress not found. Please update jupyter and ipywidgets. See https://ipywidgets.readthedocs.io/en/stable/user_install.html\n",
      "  from .autonotebook import tqdm as notebook_tqdm\n",
      "e:\\assignment\\myenv\\Lib\\site-packages\\huggingface_hub\\file_download.py:143: UserWarning: `huggingface_hub` cache-system uses symlinks by default to efficiently store duplicated files but your machine does not support them in C:\\Users\\hp\\.cache\\huggingface\\hub\\models--sentence-transformers--all-MiniLM-L6-v2. Caching files will still work but in a degraded version that might require more space on your disk. This warning can be disabled by setting the `HF_HUB_DISABLE_SYMLINKS_WARNING` environment variable. For more details, see https://huggingface.co/docs/huggingface_hub/how-to-cache#limitations.\n",
      "To support symlinks on Windows, you either need to activate Developer Mode or to run Python as an administrator. In order to activate developer mode, see this article: https://docs.microsoft.com/en-us/windows/apps/get-started/enable-your-device-for-development\n",
      "  warnings.warn(message)\n",
      "Xet Storage is enabled for this repo, but the 'hf_xet' package is not installed. Falling back to regular HTTP download. For better performance, install the package with: `pip install huggingface_hub[hf_xet]` or `pip install hf_xet`\n"
     ]
    }
   ],
   "source": [
    "\n",
    "from sentence_transformers import SentenceTransformer\n",
    "from sklearn.cluster import AgglomerativeClustering\n",
    "import numpy as np\n",
    "\n",
    "model = SentenceTransformer('all-MiniLM-L6-v2')\n",
    "# paragraph to lines\n",
    "def split_into_sections(text):\n",
    "    lines = text.split('\\n')\n",
    "    return [line.strip() for line in lines if len(line.strip()) > 10]\n",
    "\n",
    "# clustering similar sections using DBSCAN\n",
    "def detect_semantic_sections(text):\n",
    "    lines = split_into_sections(text)\n",
    "    embeddings = model.encode(lines)\n",
    "    clustering = AgglomerativeClustering(n_clusters=None, distance_threshold=1.5).fit(embeddings)\n",
    "    \n",
    "    sections = {}\n",
    "    for label in set(clustering.labels_):\n",
    "        indices = np.where(clustering.labels_ == label)[0]\n",
    "        cluster_text = \"\\n\".join([lines[i] for i in indices])\n",
    "        sections[f\"Section_{label}\"] = cluster_text\n",
    "    return sections\n"
   ]
  },
  {
   "cell_type": "code",
   "execution_count": null,
   "id": "0dfbdce5",
   "metadata": {},
   "outputs": [
    {
     "name": "stderr",
     "output_type": "stream",
     "text": [
      "e:\\assignment\\myenv\\Lib\\site-packages\\huggingface_hub\\file_download.py:143: UserWarning: `huggingface_hub` cache-system uses symlinks by default to efficiently store duplicated files but your machine does not support them in C:\\Users\\hp\\.cache\\huggingface\\hub\\models--dslim--bert-base-NER. Caching files will still work but in a degraded version that might require more space on your disk. This warning can be disabled by setting the `HF_HUB_DISABLE_SYMLINKS_WARNING` environment variable. For more details, see https://huggingface.co/docs/huggingface_hub/how-to-cache#limitations.\n",
      "To support symlinks on Windows, you either need to activate Developer Mode or to run Python as an administrator. In order to activate developer mode, see this article: https://docs.microsoft.com/en-us/windows/apps/get-started/enable-your-device-for-development\n",
      "  warnings.warn(message)\n",
      "Some weights of the model checkpoint at dslim/bert-base-NER were not used when initializing BertForTokenClassification: ['bert.pooler.dense.bias', 'bert.pooler.dense.weight']\n",
      "- This IS expected if you are initializing BertForTokenClassification from the checkpoint of a model trained on another task or with another architecture (e.g. initializing a BertForSequenceClassification model from a BertForPreTraining model).\n",
      "- This IS NOT expected if you are initializing BertForTokenClassification from the checkpoint of a model that you expect to be exactly identical (initializing a BertForSequenceClassification model from a BertForSequenceClassification model).\n",
      "Device set to use cpu\n"
     ]
    }
   ],
   "source": [
    "\n",
    "from transformers import pipeline\n",
    "\n",
    "# NER pipeline (BERT + normal)\n",
    "ner_pipe = pipeline(\"ner\", model=\"dslim/bert-base-NER\", aggregation_strategy=\"simple\")\n",
    "\n",
    "def extract_named_entities(text):\n",
    "    entities = ner_pipe(text)\n",
    "    # for ever job role skills will be different\n",
    "    skills = set(e['word'] for e in entities if e['entity_group'] in ['ORG', 'MISC', 'SKILL']) # considering organization, tech stack, domain specific tags\n",
    "    return list(skills)\n"
   ]
  },
  {
   "cell_type": "code",
   "execution_count": null,
   "id": "5620e146",
   "metadata": {},
   "outputs": [],
   "source": [
    "from sklearn.metrics.pairwise import cosine_similarity\n",
    "import numpy as np\n",
    "\n",
    "# need to finetune the weights based on observations\n",
    "def score_resume(resume_embedding, jd_embedding, skill_matches, experience_factor,\n",
    "                 alpha=0.5, beta=0.3, gamma=0.2):\n",
    "    semantic_score = cosine_similarity([resume_embedding], [jd_embedding])[0][0]\n",
    "    skill_score = len(skill_matches)\n",
    "    return alpha * semantic_score + beta * skill_score + gamma * experience_factor\n"
   ]
  },
  {
   "cell_type": "markdown",
   "id": "1646752c",
   "metadata": {},
   "source": [
    "## Main Execution"
   ]
  },
  {
   "cell_type": "code",
   "execution_count": null,
   "id": "52f04db7",
   "metadata": {},
   "outputs": [
    {
     "name": "stdout",
     "output_type": "stream",
     "text": [
      "        filename  score\n",
      "0  resume-03.pdf  0.283\n",
      "1  resume-01.pdf  0.274\n",
      "2  resume-02.pdf  0.261\n"
     ]
    }
   ],
   "source": [
    "import pandas as pd\n",
    "from sentence_transformers import SentenceTransformer\n",
    "\n",
    "# provide job description\n",
    "JD_TEXT = \"\"\"We are hiring a Data Science Intern with experience in NLP, Machine Learning and Deep Learning with knowledge of data preprocessing and building end-to-end models.\"\"\"\n",
    "embedder = model\n",
    "\n",
    "# create it's embeddings\n",
    "JD_EMBEDDING = embedder.encode(JD_TEXT)\n",
    "\n",
    "pdf_texts = extract_text_from_pdfs('./data/')\n",
    "\n",
    "ranking_results = []\n",
    "\n",
    "for filename, raw_text in pdf_texts.items():\n",
    "    cleaned_text = preprocess_text(raw_text)\n",
    "    sections = detect_semantic_sections(cleaned_text)\n",
    "    combined_section_text = \" \".join(sections.values())\n",
    "    \n",
    "    resume_embedding = embedder.encode(combined_section_text)\n",
    "    extracted_skills = extract_named_entities(combined_section_text)\n",
    "    \n",
    "    # experience factor (trial can be inefficient)\n",
    "    experience_factor = 1 if any(kw in combined_section_text.lower() for kw in [\"senior\", \"lead\", \"5+ years\"]) else 0.5\n",
    "    \n",
    "    score = score_resume(resume_embedding, JD_EMBEDDING, extracted_skills, experience_factor)\n",
    "    \n",
    "    ranking_results.append({\n",
    "        \"filename\": filename,\n",
    "        \"score\": round(score, 3),\n",
    "        \"skills\": extracted_skills\n",
    "    })\n",
    "\n",
    "# results\n",
    "df = pd.DataFrame(ranking_results).sort_values(by=\"score\", ascending=False).reset_index(drop=True)\n",
    "print(df[[\"filename\", \"score\"]])\n"
   ]
  },
  {
   "cell_type": "code",
   "execution_count": null,
   "id": "b31e4a2b",
   "metadata": {},
   "outputs": [],
   "source": []
  }
 ],
 "metadata": {
  "kernelspec": {
   "display_name": "myenv",
   "language": "python",
   "name": "python3"
  },
  "language_info": {
   "codemirror_mode": {
    "name": "ipython",
    "version": 3
   },
   "file_extension": ".py",
   "mimetype": "text/x-python",
   "name": "python",
   "nbconvert_exporter": "python",
   "pygments_lexer": "ipython3",
   "version": "3.11.7"
  }
 },
 "nbformat": 4,
 "nbformat_minor": 5
}
