{
 "cells": [
  {
   "cell_type": "code",
   "execution_count": 1,
   "id": "cb8c3856",
   "metadata": {},
   "outputs": [
    {
     "name": "stderr",
     "output_type": "stream",
     "text": [
      "e:\\assignment\\myenv\\Lib\\site-packages\\tqdm\\auto.py:21: TqdmWarning: IProgress not found. Please update jupyter and ipywidgets. See https://ipywidgets.readthedocs.io/en/stable/user_install.html\n",
      "  from .autonotebook import tqdm as notebook_tqdm\n"
     ]
    }
   ],
   "source": [
    "import pandas as pd\n",
    "from sentence_transformers import SentenceTransformer\n",
    "\n",
    "# sample job description\n",
    "JD_TEXT = \"\"\"\n",
    "    We are hiring a Data Science Intern with experience in NLP, Machine Learning and Deep Learning with knowledge of data preprocessing and building end-to-end models.\n",
    "\"\"\"\n"
   ]
  },
  {
   "cell_type": "code",
   "execution_count": 2,
   "id": "57ef7ddc",
   "metadata": {},
   "outputs": [],
   "source": [
    "# provide resumes\n",
    "import fitz  #PyMuPDF's new library\n",
    "import os\n",
    "\n",
    "#storing key-pair value (key-file name, pair-extracted text)\n",
    "def extract_text(directory):\n",
    "    extracted_data = {}\n",
    "    for file in os.listdir(directory):\n",
    "        if file.endswith('.pdf'):\n",
    "            path = os.path.join(directory, file)\n",
    "            with fitz.open(path) as doc:\n",
    "                text = \"\\n\".join([page.get_text() for page in doc])\n",
    "            extracted_data[file] = text\n",
    "    return extracted_data\n"
   ]
  },
  {
   "cell_type": "code",
   "execution_count": 3,
   "id": "7a82fc15",
   "metadata": {},
   "outputs": [],
   "source": [
    "pdfs_text = extract_text('./data/')\n"
   ]
  },
  {
   "cell_type": "code",
   "execution_count": 6,
   "id": "734cfc83",
   "metadata": {},
   "outputs": [
    {
     "data": {
      "text/plain": [
       "{'resume-01.pdf': 'Ayush Uttarwar\\n+91-9359635906 | ayushuttarwar086@gmail.com | Linkedin | Github | Tableau Public\\nSUMMARY\\nI’m a ﬁnal year B.Tech student studying AI and Data Science. I’m really interested in using my skills to solve real-world\\nproblems. I have a good grasp of Data Structures and Machine Learning, and I’ve been working on projects related to Data\\nScience and Generative AI. I’m looking for a chance to learn gain some industry experience, and contribute to a team and\\nget exposure to the industry.\\nTECHNICAL SKILLS\\nProgramming Languages: C++, JavaScript, Python\\nML/DS: scikit-learn, NumPy, Pandas, XGBoost, Plotly\\nData Visualization: Power BI, Matplotlib Tableau, Seaborn\\nTools: Git, GitHub, MySQL, Excel\\nPROJECTS\\nDuplicate Question Detection for Social Platforms\\nkaggle-url\\nNLP, Random Forest, XGBoost, CountVectorizer\\n• Cleaned and normalized large text datasets by removing HTML tags, expanding contractions, etc.\\n• Engineered features including word counts, shared tokens, stop word ratios, and fuzzy similarity scores.\\n• Used CountVectorizer for representation and trained Random Forest & XGBoost classiﬁers for duplicate detection.\\nCustomer Churn Analysis\\nPySpark, Plotly, Decision Trees\\n• Built a customer churn prediction pipeline using PySpark on a large telecom dataset with over 7,000 records.\\n• Conducted comprehensive exploratory data analysis (EDA) and visualization to uncover key drivers of churn.\\n• Engineered and preprocessed both numerical and categorical features, built and validated a decision tree model for churn\\nprediction with 80% accuracy.\\nAI-Powered Virtual Assistant\\nPython, Cohere, Selenium, Web Scraping\\n• Developed assistant with voice recognition, automation, real-time search, and chatbot capabilities using Python and Groq’s LLM.\\n• Implemented speech-to-text, text-to-speech, image generation, and system automation for seamless user interaction.\\n• Enhanced response accuracy by 25% by integrating LLMs, real-time web scraping, and API-based query handling for dynamic,\\ncontext-aware assistance.\\nEDUCATION\\nVishwakarma Institute of Information Technology (CGPA: 8.37)\\nPune, MH\\nB. Tech - Artiﬁcial Intelligence and Data Science\\n2022 – Present\\nThe Jain International School (Grades: 80%)\\nAurangabad, MH\\nH.S.C.\\n2020 – 2022\\nCERTIFICATIONS\\n• Python for Data Science, AI & Development — IBM (Coursera) — April 2025 \\x7f certiﬁcate\\n• Microsoft Power BI Data Analyst — Microsoft (Coursera) — January 2025 \\x7f certiﬁcate\\n',\n",
       " 'resume-02.pdf': 'Ayush Uttarwar\\n+91-9359635906 | ayushuttarwar086@gmail.com | Linkedin | Github | Leetcode\\nSUMMARY\\nI’m a 3rd-year B.Tech student studying AI and Data Science. I’m really interested in using my skills to solve real-world\\nproblems. I have a good grasp of Data Structures and Machine Learning, and I’ve been working on projects related to NLP\\nand Generative AI. I’m looking for a chance to learn gain some industry experience, and contribute to a team and get\\nexposure to the industry.\\nTECHNICAL SKILLS\\nProgramming Languages: C++, JavaScript, Python\\nML/DL: scikit-learn, TensorFlow(basic), NumPy, Pandas\\nNLP/CV Tools: Hugging Face Transformers, Selenium, OpenCV, Matplotlib\\nTools: Git, GitHub, MySQL, Postman\\nPROJECTS\\nSuspicious Activity Detection\\nkaggle-url\\nComputer Vision, Tensorﬂow, MobileNetV2, LSTM, OpenCV\\n• Built a real-time video analytics model to detect abnormal activity in surveillance footage.\\n• Optimized memory usage via on-the-ﬂy data generators (no frame storage).\\n• Processed 20–25 sec video clips at 30 FPS for accurate activity detection.\\nDuplicate Question Detection for Social Platforms\\nkaggle-url\\nNLP, Random Forest, XGBoost, FuzzyWuzzy, CountVectorizer\\n• Cleaned and normalized large text datasets by removing HTML tags, expanding contractions, etc.\\n• Engineered features including word counts, shared tokens, stop word ratios, and fuzzy similarity scores.\\n• Used CountVectorizer for representation and trained Random Forest & XGBoost classiﬁers for duplicate detection.\\nAI-Powered Virtual Assistant\\nPython, Cohere, Selenium, Web Scraping\\n• Developed assistant with voice recognition, automation, real-time search, and chatbot capabilities using Python and Groq’s LLM.\\n• Implemented speech-to-text, text-to-speech, image generation, and system automation for seamless user interaction.\\n• Enhanced response accuracy by integrating LLMs, real-time web scraping, and API-based query handling for dynamic,\\ncontext-aware assistance.\\nEDUCATION\\nVishwakarma Institute of Information Technology\\nPune, MH\\nB. Tech - Artiﬁcial Intelligence and Data Science (CGPA - 8.37)\\n2022 – Present\\nThe Jain International School\\nAurangabad, MH\\nH.S.C. (Grade - 80%\\n2020 – 2022\\nACHIEVEMENTS\\n• Solved 200+ DSA problems on Leetcode\\n• Tutored a student in JavaScript, helping him grasp fundamental concepts.\\n',\n",
       " 'resume-03.pdf': 'Ayush Uttarwar\\n+91-9359635906 | ayushuttarwar086@gmail.com | Linkedin | Github | Leetcode\\nSUMMARY\\nFinal-year B.Tech student specializing in AI and Data Science. I have a strong foundation in Data Structures, Algorithms,\\nand Machine Learning, and practical experience with NLP and Generative AI from my projects. I’m seeking an entry-level\\nopportunity where I can learn and contribute as I begin my career.\\nTECHNICAL SKILLS\\nProgramming Languages: C++, JavaScript, Python, LangChain\\nFrameworks: Node.js, Express.js, React, Tailwind CSS, Redux\\nLibraries: Mongoose, NumPy, Pandas, scikit-learn, Matplotlib\\nTools: Git, GitHub, MongoDB, MySQL, Postman\\nPROJECTS\\nMental Health Chatbot\\nDec 2024\\nRAG Chatbot\\nLangChain, AstraDB, Groq’s LLM\\n• Built an LLM-powered chatbot using Retrieval-Augmented Generation (RAG) for accurate and context-aware responses.\\n• Integrated AstraDB vector store with Hugging Face embeddings for efﬁcient document retrieval.\\n• Developed a Gradio-based UI and optimized inference speed for real-time interaction.\\nCodexity\\nAug 2024 – Feb 2025\\nWeb Development\\nReact, MongoDB, Tailwind CSS, Node.js, etc.\\n• A fully functional ed-tech platform using the MERN stack to enable course creation, consumption, and rating.\\n• Designed a seamless and interactive learning experience for students and a showcase platform for instructors.\\n• Implemented comprehensive technical features including API design, deployment, and testing processes.\\nAI-Powered Virtual Assistant\\nJan 2025 - April 2025\\nGenerative AI\\nPython, Cohere, Selenium, Web Scraping\\n• Developed assistant with voice recognition, automation, real-time search, and chatbot capabilities using Python and Groq’s LLM.\\n• Implemented speech-to-text, text-to-speech, image generation, and system automation for seamless user interaction.\\n• Enhanced response accuracy by integrating LLMs, real-time web scraping, and API-based query handling for dynamic,\\ncontext-aware assistance.\\nEDUCATION\\nVishwakarma Institute of Information Technology\\nPune, MH\\nB. Tech - Artiﬁcial Intelligence and Data Science (CGPA: 8.37)\\n2022 – Present\\nThe Jain International School\\nAurangabad, MH\\nH.S.C. (Grades: 80%)\\n2020 – 2022\\nCERTIFICATIONS\\n• ChatGPT Prompt Engineering for Developers — DeepLearning.AI — August 2024 \\x7f certiﬁcate\\n• Microsoft Power BI Data Analyst — coursera — April 2025 \\x7f certiﬁcate\\nACHIEVEMENTS\\n• Solved 250+ DSA problems on Leetcode\\n• Tutored a student in JavaScript, helping him grasp fundamental concepts.\\n'}"
      ]
     },
     "execution_count": 6,
     "metadata": {},
     "output_type": "execute_result"
    }
   ],
   "source": [
    "pdfs_text\n"
   ]
  },
  {
   "cell_type": "code",
   "execution_count": 8,
   "id": "c00724e0",
   "metadata": {},
   "outputs": [
    {
     "name": "stdout",
     "output_type": "stream",
     "text": [
      "ayush uttarwar linkedin github leetcode summary finalyear btech student specialize ai data science strong foundation data structure algorithm machine learning practical experience nlp generative ai project m seek entrylevel opportunity learn contribute begin career technical skill programming language c javascript python langchain framework nodejs expressjs react tailwind css redux library mongoose numpy panda scikitlearn matplotlib tool git github mongodb mysql postman project mental health chatbot dec rag chatbot langchain astradb groqs llm build llmpowere chatbot retrievalaugmented generation rag accurate contextaware response integrate astradb vector store hug face embedding efﬁcient document retrieval develop gradiobased ui optimize inference speed realtime interaction codexity aug feb web development react mongodb tailwind css nodejs etc fully functional edtech platform mern stack enable course creation consumption rating design seamless interactive learning experience student showcase platform instructor implement comprehensive technical feature include api design deployment testing process aipowere virtual assistant jan april generative ai python cohere selenium web scrape develop assistant voice recognition automation realtime search chatbot capability python groqs llm implement speechtotext texttospeech image generation system automation seamless user interaction enhance response accuracy integrate llm realtime web scraping apibase query handle dynamic contextaware assistance education vishwakarma institute information technology pune mh b tech artiﬁcial intelligence datum science cgpa present jain international school aurangabad mh hsc grade certification chatgpt prompt engineering developer deeplearningai august certiﬁcate microsoft power bi data analyst coursera april certiﬁcate achievement solve dsa problem leetcode tutor student javascript help grasp fundamental concept\n"
     ]
    }
   ],
   "source": [
    "# text preprocessing\n",
    "import re\n",
    "import spacy \n",
    "\n",
    "nlp = spacy.load('en_core_web_sm')\n",
    "\n",
    "preprocessed_text = []\n",
    "for file, text in pdfs_text.items():\n",
    "    text = text.lower()\n",
    "    text = re.sub(r'[^\\w\\s]', '', text)\n",
    "    doc = nlp(text)\n",
    "    \n",
    "    tokens = []\n",
    "    for token in doc:\n",
    "        # skip stopword\n",
    "        if token.is_stop:\n",
    "            continue\n",
    "        # filters out punctuation/numbers\n",
    "        if not token.is_alpha:\n",
    "            continue\n",
    "        \n",
    "        tokens.append(token.lemma_)\n",
    "    \n",
    "    cleaned_text = \" \".join(tokens)\n",
    "\n",
    "    \n",
    "print(cleaned_text)\n"
   ]
  },
  {
   "cell_type": "code",
   "execution_count": 9,
   "id": "ff2dd6a6",
   "metadata": {},
   "outputs": [
    {
     "name": "stdout",
     "output_type": "stream",
     "text": [
      "['ayush uttarwar linkedin github leetcode summary finalyear btech student specialize ai data science strong foundation data structure algorithm machine learning practical experience nlp generative ai project m seek entrylevel opportunity learn contribute begin career technical skill programming language c javascript python langchain framework nodejs expressjs react tailwind css redux library mongoose numpy panda scikitlearn matplotlib tool git github mongodb mysql postman project mental health chatbot dec rag chatbot langchain astradb groqs llm build llmpowere chatbot retrievalaugmented generation rag accurate contextaware response integrate astradb vector store hug face embedding efﬁcient document retrieval develop gradiobased ui optimize inference speed realtime interaction codexity aug feb web development react mongodb tailwind css nodejs etc fully functional edtech platform mern stack enable course creation consumption rating design seamless interactive learning experience student showcase platform instructor implement comprehensive technical feature include api design deployment testing process aipowere virtual assistant jan april generative ai python cohere selenium web scrape develop assistant voice recognition automation realtime search chatbot capability python groqs llm implement speechtotext texttospeech image generation system automation seamless user interaction enhance response accuracy integrate llm realtime web scraping apibase query handle dynamic contextaware assistance education vishwakarma institute information technology pune mh b tech artiﬁcial intelligence datum science cgpa present jain international school aurangabad mh hsc grade certification chatgpt prompt engineering developer deeplearningai august certiﬁcate microsoft power bi data analyst coursera april certiﬁcate achievement solve dsa problem leetcode tutor student javascript help grasp fundamental concept']\n"
     ]
    }
   ],
   "source": [
    "# extract different sections from the resume\n",
    "from sentence_transformers import SentenceTransformer\n",
    "from sklearn.cluster import AgglomerativeClustering\n",
    "import numpy as np\n",
    "\n",
    "embedder = SentenceTransformer('all-MiniLM-L6-v2')\n",
    "\n",
    "def sections_split(text):\n",
    "    lines = text.split('\\n')\n",
    "    filtered_lines = []\n",
    "\n",
    "    for line in lines:\n",
    "        stripped = line.strip()\n",
    "        \n",
    "        # consider only if it's important\n",
    "        if len(stripped) > 10:\n",
    "            filtered_lines.append(stripped)\n",
    "            \n",
    "    return filtered_lines\n",
    "\n",
    "\n",
    "lines = sections_split(cleaned_text)\n",
    "\n",
    "print(lines)\n"
   ]
  },
  {
   "cell_type": "code",
   "execution_count": null,
   "id": "9334a526",
   "metadata": {},
   "outputs": [],
   "source": [
    "# form clusters of semantically similar embeddings\n",
    "\n",
    "embeddings = embedder.encode(lines)\n",
    "\n",
    "# cluster similar embeddings for better retrieval\n",
    "clustering = AgglomerativeClustering(n_clusters=None, distance_threshold=1.5).fit(embeddings)\n"
   ]
  },
  {
   "cell_type": "code",
   "execution_count": null,
   "id": "b1a65229",
   "metadata": {},
   "outputs": [],
   "source": []
  }
 ],
 "metadata": {
  "kernelspec": {
   "display_name": "myenv",
   "language": "python",
   "name": "python3"
  },
  "language_info": {
   "codemirror_mode": {
    "name": "ipython",
    "version": 3
   },
   "file_extension": ".py",
   "mimetype": "text/x-python",
   "name": "python",
   "nbconvert_exporter": "python",
   "pygments_lexer": "ipython3",
   "version": "3.11.7"
  }
 },
 "nbformat": 4,
 "nbformat_minor": 5
}
