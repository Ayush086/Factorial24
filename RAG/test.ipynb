{
 "cells": [
  {
   "cell_type": "code",
   "execution_count": 1,
   "id": "00cf49a0",
   "metadata": {},
   "outputs": [
    {
     "name": "stderr",
     "output_type": "stream",
     "text": [
      "e:\\assignment\\myenv\\Lib\\site-packages\\tqdm\\auto.py:21: TqdmWarning: IProgress not found. Please update jupyter and ipywidgets. See https://ipywidgets.readthedocs.io/en/stable/user_install.html\n",
      "  from .autonotebook import tqdm as notebook_tqdm\n"
     ]
    }
   ],
   "source": [
    "import os\n",
    "import gradio as gr\n",
    "from langchain_core.documents import Document\n",
    "from langchain.text_splitter import RecursiveCharacterTextSplitter\n",
    "from langchain_cohere import CohereEmbeddings\n",
    "from langchain_community.vectorstores import FAISS\n",
    "from langchain_groq import ChatGroq\n",
    "from langchain.chains import ConversationalRetrievalChain\n",
    "from langchain.prompts import PromptTemplate\n",
    "from langchain.memory import ConversationBufferMemory\n"
   ]
  },
  {
   "cell_type": "code",
   "execution_count": null,
   "id": "6088a5e9",
   "metadata": {},
   "outputs": [],
   "source": [
    "os.environ[\"GROQ_API_KEY\"] = os.getenv(\"GROQ_API_KEY\", \"\")\n",
    "os.environ[\"COHERE_API_KEY\"] = os.getenv(\"COHERE_API_KEY\", \"\")\n"
   ]
  },
  {
   "cell_type": "code",
   "execution_count": null,
   "id": "d65eee02",
   "metadata": {},
   "outputs": [],
   "source": [
    "# api keys\n",
    "groq_api_key = \"\"\n",
    "cohere_api_key = \"\"\n"
   ]
  },
  {
   "cell_type": "code",
   "execution_count": null,
   "id": "2767e92a",
   "metadata": {},
   "outputs": [],
   "source": [
    "# sample data\n",
    "RAW_FAQS = [\n",
    "    {\"question\": \"What are your company's working hours?\",\n",
    "     \"answer\": \"Our company operates from 9 AM to 5 PM, Monday to Friday.\"},\n",
    "    {\"question\": \"How can I contact customer support?\",\n",
    "     \"answer\": \"Email support@example.com or call 1-800-123-4567.\"},\n",
    "    {\"question\": \"What products do you offer?\",\n",
    "     \"answer\": \"We offer cloud platforms, data analytics, and cybersecurity solutions.\"},\n",
    "    {\"question\": \"Where is your main office located?\",\n",
    "     \"answer\": \"123 Tech Avenue, Innovation City, CA 90210.\"},\n",
    "    {\"question\": \"What is your return policy?\",\n",
    "     \"answer\": \"Full refunds within 30 days if product is in original condition.\"},\n",
    "    {\"question\": \"Do you offer international shipping?\",\n",
    "     \"answer\": \"Yes, shipping cost and delivery times vary by location.\"},\n",
    "    {\"question\": \"What payment methods do you accept?\",\n",
    "     \"answer\": \"Visa, MasterCard, AmEx, PayPal, and bank transfers.\"},\n",
    "    {\"question\": \"What is your company's mission statement?\",\n",
    "     \"answer\": \"Empowering businesses with innovative technology solutions.\"},\n",
    "    {\"question\": \"How can I apply for a job?\",\n",
    "     \"answer\": \"Visit our careers portal on our website.\"},\n",
    "    {\"question\": \"Do you provide training for your software?\",\n",
    "     \"answer\": \"Yes, including online tutorials, webinars, and workshops.\"},\n",
    "]\n"
   ]
  },
  {
   "cell_type": "code",
   "execution_count": null,
   "id": "6d899030",
   "metadata": {},
   "outputs": [],
   "source": [
    "# json to doc\n",
    "documents = []\n",
    "for i, faq in enumerate(RAW_FAQS):\n",
    "    content = f\"Question: {faq['question']}\\nAnswer: {faq['answer']}\"\n",
    "    documents.append(Document(page_content=content, metadata={\"source\": f\"faq_{i}\"}))\n"
   ]
  },
  {
   "cell_type": "code",
   "execution_count": null,
   "id": "44a52852",
   "metadata": {},
   "outputs": [],
   "source": [
    "# chunking\n",
    "splitter = RecursiveCharacterTextSplitter(chunk_size=500, chunk_overlap=50)\n",
    "chunks = splitter.split_documents(documents)\n"
   ]
  },
  {
   "cell_type": "code",
   "execution_count": null,
   "id": "f3357789",
   "metadata": {},
   "outputs": [],
   "source": [
    "# create embeddings\n",
    "embeddings = CohereEmbeddings(\n",
    "    cohere_api_key=cohere_api_key,\n",
    "    model=\"embed-english-v3.0\"\n",
    ")\n",
    "\n",
    "# store in vector db\n",
    "vectorstore = FAISS.from_documents(chunks, embeddings)\n"
   ]
  },
  {
   "cell_type": "code",
   "execution_count": null,
   "id": "ecd4af86",
   "metadata": {},
   "outputs": [],
   "source": [
    "# llm model\n",
    "llm = ChatGroq(\n",
    "    temperature=0,\n",
    "    model_name=\"llama3-70b-8192\",\n",
    "    groq_api_key=groq_api_key,\n",
    "    max_tokens=150\n",
    ")\n"
   ]
  },
  {
   "cell_type": "code",
   "execution_count": null,
   "id": "56f62f21",
   "metadata": {},
   "outputs": [],
   "source": [
    "# prompt template for better results\n",
    "prompt_template = PromptTemplate.from_template(\"\"\"\n",
    "You are a helpful assistant. Use the following company FAQs to answer the user's question in a detailed, friendly, and conversational manner. Maintain awareness of the previous chat if relevant.\n",
    "\n",
    "Context:\n",
    "{context}\n",
    "\n",
    "Current Question: {question}\n",
    "Answer:\"\"\")\n"
   ]
  },
  {
   "cell_type": "code",
   "execution_count": null,
   "id": "4c10784a",
   "metadata": {},
   "outputs": [
    {
     "name": "stderr",
     "output_type": "stream",
     "text": [
      "C:\\Users\\hp\\AppData\\Local\\Temp\\ipykernel_15252\\2981587399.py:39: LangChainDeprecationWarning: Please see the migration guide at: https://python.langchain.com/docs/versions/migrating_memory/\n",
      "  memory = ConversationBufferMemory(\n"
     ]
    }
   ],
   "source": [
    "# saving history\n",
    "memory = ConversationBufferMemory(\n",
    "    memory_key=\"chat_history\",\n",
    "    return_messages=True,\n",
    "    output_key='answer' \n",
    ")\n",
    "\n",
    "\n"
   ]
  },
  {
   "cell_type": "code",
   "execution_count": null,
   "id": "3c9a2da6",
   "metadata": {},
   "outputs": [],
   "source": [
    "# chain\n",
    "rag_chain = ConversationalRetrievalChain.from_llm(\n",
    "    llm=llm,\n",
    "    retriever=vectorstore.as_retriever(),\n",
    "    memory=memory,\n",
    "    combine_docs_chain_kwargs={\"prompt\": prompt_template},\n",
    "    return_source_documents=True\n",
    ")\n"
   ]
  },
  {
   "cell_type": "code",
   "execution_count": null,
   "id": "305a3612",
   "metadata": {},
   "outputs": [],
   "source": [
    "\n",
    "chat_history = []\n"
   ]
  },
  {
   "cell_type": "code",
   "execution_count": 11,
   "id": "a90c7c40",
   "metadata": {},
   "outputs": [],
   "source": [
    "user_input = \"What services do you provide ?\"\n"
   ]
  },
  {
   "cell_type": "code",
   "execution_count": 12,
   "id": "1131ec1d",
   "metadata": {},
   "outputs": [],
   "source": [
    "result = rag_chain.invoke({\n",
    "            \"question\": user_input,\n",
    "            \"chat_history\": chat_history  # maintained by LangChain memory\n",
    "        })\n",
    "\n",
    "answer = result[\"answer\"]\n",
    "sources = result.get(\"source_documents\", [])\n",
    "context = \"\\n\\n\".join([f\"📄 **Doc {i+1}:** {doc.page_content}\" for i, doc in enumerate(sources)])\n"
   ]
  },
  {
   "cell_type": "code",
   "execution_count": 13,
   "id": "26828175",
   "metadata": {},
   "outputs": [
    {
     "name": "stdout",
     "output_type": "stream",
     "text": [
      "Response:  You're looking to know more about the services we provide, right?\n",
      "\n",
      "Well, I'm happy to tell you that our services are closely tied to the products we offer. Since we provide cloud platforms, data analytics, and cybersecurity solutions, our services are designed to help you get the most out of these products.\n",
      "\n",
      "For instance, we offer implementation services to help you set up and integrate our cloud platforms into your existing infrastructure. Our team of experts will work closely with you to ensure a seamless transition.\n",
      "\n",
      "When it comes to data analytics, our services include data migration, data warehousing, and business intelligence solutions. We can help you make sense of your data and turn it into actionable insights that drive business growth.\n",
      "\n",
      "In terms of cybersecurity, our services include threat\n",
      "Context:  [Document(id='ad2d6dc9-6a0a-4fc1-b252-e593264aba80', metadata={'source': 'faq_2'}, page_content='Question: What products do you offer?\\nAnswer: We offer cloud platforms, data analytics, and cybersecurity solutions.'), Document(id='75948b9c-07e5-4c45-b4d8-fa893dbe44f8', metadata={'source': 'faq_9'}, page_content='Question: Do you provide training for your software?\\nAnswer: Yes, including online tutorials, webinars, and workshops.'), Document(id='312ef949-845f-4edd-bfa3-d32c978949d4', metadata={'source': 'faq_7'}, page_content=\"Question: What is your company's mission statement?\\nAnswer: Empowering businesses with innovative technology solutions.\"), Document(id='ef789f1c-6cfe-4a91-a5ad-ab30852392ee', metadata={'source': 'faq_5'}, page_content='Question: Do you offer international shipping?\\nAnswer: Yes, shipping cost and delivery times vary by location.')]\n"
     ]
    }
   ],
   "source": [
    "print(\"Response: \", answer)\n",
    "print(\"Context: \", sources)\n"
   ]
  },
  {
   "cell_type": "code",
   "execution_count": null,
   "id": "3ad72005",
   "metadata": {},
   "outputs": [],
   "source": []
  }
 ],
 "metadata": {
  "kernelspec": {
   "display_name": "myenv",
   "language": "python",
   "name": "python3"
  },
  "language_info": {
   "codemirror_mode": {
    "name": "ipython",
    "version": 3
   },
   "file_extension": ".py",
   "mimetype": "text/x-python",
   "name": "python",
   "nbconvert_exporter": "python",
   "pygments_lexer": "ipython3",
   "version": "3.11.7"
  }
 },
 "nbformat": 4,
 "nbformat_minor": 5
}
